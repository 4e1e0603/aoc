{
 "cells": [
  {
   "cell_type": "markdown",
   "metadata": {},
   "source": [
    "# Sandbox\n",
    "\n",
    "Requires IPython Kernel: `pip install ipython`."
   ]
  }
 ],
 "metadata": {
  "interpreter": {
   "hash": "fc520d0bbdb25e6f88bf53fced89bb1588a79f1dc4ee513fb192cfb5f517a742"
  },
  "kernelspec": {
   "display_name": "Python 3.11.0 64-bit (system)",
   "name": "python3"
  },
  "language_info": {
   "codemirror_mode": {
    "name": "ipython",
    "version": 3
   },
   "file_extension": ".py",
   "mimetype": "text/x-python",
   "name": "python",
   "nbconvert_exporter": "python",
   "pygments_lexer": "ipython3",
   "version": "3.11.0"
  },
  "orig_nbformat": 4
 },
 "nbformat": 4,
 "nbformat_minor": 2
}
